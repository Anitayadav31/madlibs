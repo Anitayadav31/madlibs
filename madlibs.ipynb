{
 "cells": [
  {
   "cell_type": "code",
   "execution_count": 7,
   "id": "ddfdc90e",
   "metadata": {},
   "outputs": [
    {
     "name": "stdout",
     "output_type": "stream",
     "text": [
      "noun: donkey\n",
      "things: salt\n",
      "Adjective: happy\n",
      "things: cotton\n",
      "A salt seller used to carry the salt bag on his donkey to the market every day.\\On the way they had to cross a stream.One day the donkey suddenly tumbled down the stream and the salt bag also fell into the water. The salt dissolved in the water and hence the bag became very light to carry. The donkey was happy.\\Then the donkey started to play the same trick every day.\\The salt seller came to understand the trick and decided to teach a lesson to it. The next day he loadeda cottonbag on the donkey.\\Again it played the same trick hoping that the cotton bag would be still become lighter.\\But the dampened cotton became very heavy to carry and the donkey suffered. It learnt a lesson. It didn’t play the trick anymore after that day, and the seller was happy.\n"
     ]
    }
   ],
   "source": [
    "noun1 = input(\"noun: \")\n",
    "things1 = input(\"things: \")\n",
    "Adej = input(\"Adjective: \")\n",
    "things2 = input(\"things: \")\n",
    "\n",
    "madlib =( f\"A salt seller used to carry the salt bag on his {noun1} to the market every day.\\On the way they had to cross a \\\n",
    "stream.One day the donkey suddenly tumbled down the stream and the {things1} bag also fell into the water. The salt dissolved \\\n",
    "in the water and hence the bag became very light to carry. The donkey was {Adej}.\\Then the {noun1} started to play the same \\\n",
    "trick every day.\\The {things1} seller came to understand the trick and decided to teach a lesson to it. The next day he loaded\\\n",
    "a {things2}bag on the donkey.\\Again it played the same trick hoping that the cotton bag would be still become lighter.\\But the \\\n",
    "dampened {things2} became very heavy to carry and the {noun1} suffered. It learnt a lesson. It didn’t play the trick anymore \\\n",
    "after that day, and the seller was happy.\")\n",
    "print(madlib)\n",
    "\n"
   ]
  },
  {
   "cell_type": "code",
   "execution_count": null,
   "id": "03741a9d",
   "metadata": {},
   "outputs": [],
   "source": []
  },
  {
   "cell_type": "code",
   "execution_count": null,
   "id": "1d0c44f8",
   "metadata": {},
   "outputs": [],
   "source": []
  }
 ],
 "metadata": {
  "kernelspec": {
   "display_name": "Python 3",
   "language": "python",
   "name": "python3"
  },
  "language_info": {
   "codemirror_mode": {
    "name": "ipython",
    "version": 3
   },
   "file_extension": ".py",
   "mimetype": "text/x-python",
   "name": "python",
   "nbconvert_exporter": "python",
   "pygments_lexer": "ipython3",
   "version": "3.8.8"
  }
 },
 "nbformat": 4,
 "nbformat_minor": 5
}
